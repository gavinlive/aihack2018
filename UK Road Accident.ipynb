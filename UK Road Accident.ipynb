{
 "cells": [
  {
   "cell_type": "code",
   "execution_count": 3,
   "metadata": {},
   "outputs": [
    {
     "name": "stdout",
     "output_type": "stream",
     "text": [
      "['accident_index', 'vehicle_reference', 'vehicle_type', 'towing_and_articulation', 'vehicle_manoeuvre', 'vehicle_location-restricted_lane', 'junction_location', 'skidding_and_overturning', 'hit_object_in_carriageway', 'vehicle_leaving_carriageway', 'hit_object_off_carriageway', '1st_point_of_impact', 'was_vehicle_left_hand_drive?', 'journey_purpose_of_driver', 'sex_of_driver', 'age_of_driver', 'age_band_of_driver', 'engine_capacity_(cc)', 'propulsion_code', 'age_of_vehicle', 'driver_imd_decile', 'driver_home_area_type', 'vehicle_imd_decile', 'NUmber_of_Casualities_unique_to_accident_index', 'No_of_Vehicles_involved_unique_to_accident_index', 'location_easting_osgr', 'location_northing_osgr', 'longitude', 'latitude', 'police_force', 'accident_severity', 'number_of_vehicles', 'number_of_casualties', 'date', 'day_of_week', 'time', 'local_authority_(district)', 'local_authority_(highway)', '1st_road_class', '1st_road_number', 'road_type', 'speed_limit', 'junction_detail', 'junction_control', '2nd_road_class', '2nd_road_number', 'pedestrian_crossing-human_control', 'pedestrian_crossing-physical_facilities', 'light_conditions', 'weather_conditions', 'road_surface_conditions', 'special_conditions_at_site', 'carriageway_hazards', 'urban_or_rural_area', 'did_police_officer_attend_scene_of_accident', 'lsoa_of_accident_location', 'casualty_reference', 'casualty_class', 'sex_of_casualty', 'age_of_casualty', 'age_band_of_casualty', 'casualty_severity', 'pedestrian_location', 'pedestrian_movement', 'car_passenger', 'bus_or_coach_passenger', 'pedestrian_road_maintenance_worker', 'casualty_type', 'casualty_home_area_type', 'casualty_imd_decile']\n",
      "['201506E098757', '2', '9', '0', '18', '0', '8', '0', '0', '0', '0', '3', '1', '6', '1', '45', '7', '1794', '1', '11', '-1', '1', '-1', '1', '2', '384980', '394830', '-2.227629', '53.450014', '6', '3', '2', '1', '42250', '2', '1899-12-30 12:56:00', '102', 'E08000003', '5', '0', '6', '30', '3', '4', '6', '0', '0', '0', '1', '1', '1', '0', '0', '1', '2', 'E01005288', 'NA', 'NA', 'NA', 'NA', 'NA', 'NA', 'NA', 'NA', 'NA', 'NA', 'NA', 'NA', 'NA', 'NA']\n",
      "['201506E098766', '1', '9', '0', '9', '0', '8', '0', '0', '0', '0', '4', '1', '6', '2', '25', '5', '1582', '2', '1', '-1', '-1', '-1', '1', '2', '383870', '394420', '-2.244322', '53.446296', '6', '3', '2', '1', '14/03/2015', '7', '1899-12-30 15:55:00', '102', 'E08000003', '3', '5103', '3', '40', '6', '2', '5', '0', '0', '5', '1', '1', '1', '0', '0', '1', '1', 'E01005178', 'NA', 'NA', 'NA', 'NA', 'NA', 'NA', 'NA', 'NA', 'NA', 'NA', 'NA', 'NA', 'NA', 'NA']\n",
      "['201506E098766', '2', '9', '0', '18', '0', '8', '0', '0', '0', '0', '1', '1', '6', '1', '51', '8', '-1', '-1', '-1', '-1', '1', '-1', '1', '2', '383870', '394420', '-2.244322', '53.446296', '6', '3', '2', '1', '14/03/2015', '7', '1899-12-30 15:55:00', '102', 'E08000003', '3', '5103', '3', '40', '6', '2', '5', '0', '0', '5', '1', '1', '1', '0', '0', '1', '1', 'E01005178', '1', '1', '1', '51', '8', '3', '0', '0', '0', '0', '0', '9', '1', '3']\n",
      "['201506E098777', '1', '20', '0', '4', '0', '0', '0', '0', '0', '0', '1', '1', '1', '1', '50', '8', '4462', '2', '1', '-1', '1', '-1', '1', '1', '386710', '395700', '-2.201617', '53.457881', '6', '3', '1', '1', '42311', '4', '1899-12-30 10:15:00', '102', 'E08000003', '3', '6', '6', '30', '0', '-1', '-1', '0', '0', '4', '1', '1', '1', '0', '0', '1', '1', 'E01005232', '1', '3', '2', '34', '6', '3', '1', '1', '0', '0', '0', '0', '1', '1']\n"
     ]
    }
   ],
   "source": [
    "path=\"data/road_accident/\"\n",
    "data_path=path+\"data.csv\"\n",
    "\n",
    "import csv\n",
    "with open(data_path) as f:\n",
    "    reader = csv.reader(f)\n",
    "    count = 0\n",
    "    for row in reader:\n",
    "        print(row)\n",
    "        count+=1\n",
    "        if(count==5):\n",
    "            break"
   ]
  },
  {
   "cell_type": "code",
   "execution_count": null,
   "metadata": {},
   "outputs": [],
   "source": []
  },
  {
   "cell_type": "code",
   "execution_count": null,
   "metadata": {},
   "outputs": [],
   "source": []
  },
  {
   "cell_type": "code",
   "execution_count": null,
   "metadata": {},
   "outputs": [],
   "source": []
  }
 ],
 "metadata": {
  "kernelspec": {
   "display_name": "Python 3",
   "language": "python",
   "name": "python3"
  },
  "language_info": {
   "codemirror_mode": {
    "name": "ipython",
    "version": 3
   },
   "file_extension": ".py",
   "mimetype": "text/x-python",
   "name": "python",
   "nbconvert_exporter": "python",
   "pygments_lexer": "ipython3",
   "version": "3.5.2"
  }
 },
 "nbformat": 4,
 "nbformat_minor": 2
}
